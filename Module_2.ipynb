{
 "cells": [
  {
   "cell_type": "markdown",
   "metadata": {},
   "source": [
    "# Final Project: Module 2\n",
    "### Statistical Modeling, Visualizations, and Data Storytelling\n",
    "\n",
    "\n",
    "\n",
    "\n",
    "This notebook should be completed and submitted to gradescope by 5/10/2020 11:59 PM. More instructions regarding submissions are at the end of the notebook."
   ]
  },
  {
   "cell_type": "markdown",
   "metadata": {},
   "source": [
    "The following are some keyboard shortcuts you might find useful in Jupyter.\n",
    "\n",
    "\n",
    "- `shift` + `enter`: run current cell (move cursor to next cell)\n",
    "- `ctrl` + `enter`: run current cell\n",
    "- `esc` + `h`: access keyboard shortcuts\n",
    "- `esc` + `p`: access commands\n",
    "- `esc` + `m`: change cell to 'Markdown'\n",
    "- `esc` + `y`: change cell to 'Code'\n",
    "- `esc` + `a`: insert code cell above\n",
    "- `esc` + `b`: insert code cell below"
   ]
  },
  {
   "cell_type": "markdown",
   "metadata": {},
   "source": [
    "### Table of Contents\n",
    "* [Review](#review)\n",
    "* [Statistical Modeling](#statistical)\n",
    "    * [Hypothesis Testing](#hypothesis)\n",
    "    * [Regression](#regression)\n",
    "* [Visualizations](#visualizations)\n",
    "* [Data Storytelling](#data)\n",
    "    * [Module 1](#mod1)\n",
    "    * [Module 2](#mod2)\n",
    "* [Submission](#submission)"
   ]
  },
  {
   "cell_type": "markdown",
   "metadata": {},
   "source": [
    "<a id='review'></a>\n",
    "# Review\n",
    "\n",
    "Congratulations on completing Module 1! Before we begin working on this module, we need to important the relevant python libraries and our cleaned dataset from the last module. Do so in the cell below."
   ]
  },
  {
   "cell_type": "code",
   "execution_count": 22,
   "metadata": {},
   "outputs": [],
   "source": [
    "import numpy as np\n",
    "import pandas as pd\n",
    "\n",
    "#Hint: we learned about this next group of libraries in our last lecture\n",
    "\n",
    "import seaborn as sns\n",
    "import matplotlib.pyplot as plt\n",
    "%matplotlib inline\n",
    "sns.set()\n",
    "from IPython.display import display, Latex, Markdown\n",
    "import scipy\n",
    "from scipy import stats\n",
    "\n",
    "dataset = pd.read_csv('bayarea_boba_spots.csv')\n",
    "dataset.dropna(inplace=True)\n",
    "dataset.drop_duplicates(inplace=True)"
   ]
  },
  {
   "cell_type": "markdown",
   "metadata": {},
   "source": [
    "<a id='statistical'></a>\n",
    "# Statistical Modeling\n",
    "\n",
    "Now we will move on to deriving and visualizing insights from the data, regrading the problem we are trying to solve."
   ]
  },
  {
   "cell_type": "markdown",
   "metadata": {},
   "source": [
    "The two main types of models that you have learned thus far are hypothesis testing and linear/logistic regression. The next step will involve creating __one__ of the two models depending on what type of problem you are trying to solve. In the last module you should have been thinking about what data might be relevant for this model, now its time to apply it.  "
   ]
  },
  {
   "cell_type": "markdown",
   "metadata": {},
   "source": [
    "There is no starter code provided for this portion. To get a better idea of what steps are required, refer to lecture 5. Use as many cells as you would like."
   ]
  },
  {
   "cell_type": "markdown",
   "metadata": {},
   "source": [
    "<a id='hypothesis'></a>\n",
    "## Hypothesis Testing"
   ]
  },
  {
   "cell_type": "markdown",
   "metadata": {},
   "source": [
    "Suppose that the boba shops given in the data set is a simple random sample of all bay area boba shops. We are going to perform a one-sample one-tailed t-test on the ratings of all boba shops."
   ]
  },
  {
   "cell_type": "code",
   "execution_count": 35,
   "metadata": {},
   "outputs": [],
   "source": [
    "# Get an array of ratings from the dataframe\n",
    "rating = dataset.loc[:, ['rating']]"
   ]
  },
  {
   "cell_type": "code",
   "execution_count": 36,
   "metadata": {},
   "outputs": [],
   "source": [
    "# Remove inner lists in rating.values to get a one-dimentional array of all ratings\n",
    "rating_array = [r[0] for r in rating.values]"
   ]
  },
  {
   "cell_type": "markdown",
   "metadata": {},
   "source": [
    "To infer the population mean of all boba shop ratings in the bay area, we will first visualize the distribution of ratings and get an idea of the mean and median of the ratings. Historgram would be the most informative. "
   ]
  },
  {
   "cell_type": "code",
   "execution_count": 34,
   "metadata": {},
   "outputs": [
    {
     "data": {
      "image/png": "[encoded data removed]",
      "text/plain": [
       "<Figure size 432x288 with 1 Axes>"
      ]
     },
     "metadata": {},
     "output_type": "display_data"
    }
   ],
   "source": [
    "plt.hist(rating_array, bins = [1,1.5,2,2.5,3,3.5,4,4.5,5,5.5]) \n",
    "plt.title(\"Distribution of Bay Area Boba Shop Ratings\") \n",
    "plt.show()"
   ]
  },
  {
   "cell_type": "markdown",
   "metadata": {},
   "source": [
    "Since Historgram bins are inclusive on the lower bound, exlusive on the upper bound, we can see that most boba shops have ratings of 3.5 and 4. We can confirm that by finding the sample mean, which is 3.77"
   ]
  },
  {
   "cell_type": "code",
   "execution_count": 37,
   "metadata": {},
   "outputs": [
    {
     "data": {
      "text/plain": [
       "3.769681742043551"
      ]
     },
     "execution_count": 37,
     "metadata": {},
     "output_type": "execute_result"
    }
   ],
   "source": [
    "np.mean(rating_array)"
   ]
  },
  {
   "cell_type": "markdown",
   "metadata": {},
   "source": [
    "<b>We hypothesize that the mean of *all* Bay Area boba shops is greater than 3.75. Therefore, we are interested in testing the following hypotheses:</b>\n",
    "\n",
    "__H0 : μ = 3.75 <br/>\n",
    "HA: μ > 3.75__\n",
    "\n",
    "We will run the following SciPy function to determine the t and p value of the test given our rating dataset."
   ]
  },
  {
   "cell_type": "code",
   "execution_count": 45,
   "metadata": {},
   "outputs": [
    {
     "name": "stdout",
     "output_type": "stream",
     "text": [
      "t =  0.9457992148240669\n",
      "p =  0.17231714229148104\n"
     ]
    }
   ],
   "source": [
    "# Running the SciPy 1-samp t-test\n",
    "# Since the below function is a 2-tailed test, our p value for the one-tailed test is half of the result p\n",
    "t, p = scipy.stats.ttest_1samp(rating_array, 3.75)\n",
    "print (\"t = \", t)\n",
    "print (\"p = \",  p/2)"
   ]
  },
  {
   "cell_type": "markdown",
   "metadata": {},
   "source": [
    "At a confidnece level of α = 0.05, we reject the null hypothesis that the mean of all Bay Area boba shop rating is equal to 3.75 in favor of the alternative that it's greater than 3.75"
   ]
  },
  {
   "cell_type": "markdown",
   "metadata": {},
   "source": [
    "<a id='regression'></a>\n",
    "## Regression"
   ]
  },
  {
   "cell_type": "markdown",
   "metadata": {},
   "source": [
    "We are going to explore if there is any correlation between the number of stores a brand has in the Bay Area and the average rating of all of its stores. We will do so by extracting data points from the dataframe, plot a scatter plot, and draw the linear regression line of best fit. "
   ]
  },
  {
   "cell_type": "code",
   "execution_count": 86,
   "metadata": {},
   "outputs": [],
   "source": [
    "# Aggregate the data set and extract the number of stores of each brand in to an array\n",
    "numStores = dataset.groupby(['name']).agg(np.size)\n",
    "numStores_array = [r[1] for r in numStores.values]\n"
   ]
  },
  {
   "cell_type": "code",
   "execution_count": 85,
   "metadata": {},
   "outputs": [],
   "source": [
    "# Extract the average rating of each store into an array\n",
    "avgRating = dataset.groupby(['name']).agg(np.mean)\n",
    "avgRating_array = [r[1] for r in avgRating.values]"
   ]
  },
  {
   "cell_type": "code",
   "execution_count": 83,
   "metadata": {},
   "outputs": [
    {
     "name": "stderr",
     "output_type": "stream",
     "text": [
      "/srv/app/venv/lib/python3.6/site-packages/ipykernel_launcher.py:9: MatplotlibDeprecationWarning: Adding an axes using the same arguments as a previous axes currently reuses the earlier instance.  In a future version, a new instance will always be created and returned.  Meanwhile, this warning can be suppressed, and the future behavior ensured, by passing a unique label to each axes instance.\n",
      "  if __name__ == '__main__':\n"
     ]
    },
    {
     "data": {
      "image/png": "[encoded data removed]",
      "text/plain": [
       "<Figure size 432x288 with 1 Axes>"
      ]
     },
     "metadata": {},
     "output_type": "display_data"
    }
   ],
   "source": [
    "# Plot the scatter plot\n",
    "# x axis --> the number of stores a brand has\n",
    "# y axis --> the average rating of all stores in the corresponding brand\n",
    "# The line is a linear regression line of best fit line\n",
    "x = numStores_array\n",
    "y = avgRating_array\n",
    "\n",
    "plt.plot(x, y, 'o');\n",
    "\n",
    "m, b = np.polyfit(x, y, 1)\n",
    "\n",
    "ax = plt.axes()\n",
    "x = np.linspace(0, 25, 100)\n",
    "ax.plot(x, m*x+b);"
   ]
  },
  {
   "cell_type": "code",
   "execution_count": 84,
   "metadata": {
    "scrolled": true
   },
   "outputs": [
    {
     "name": "stdout",
     "output_type": "stream",
     "text": [
      "-0.01144682442301857\n"
     ]
    }
   ],
   "source": [
    "print(m)"
   ]
  },
  {
   "cell_type": "markdown",
   "metadata": {},
   "source": [
    "The slope of the linear regression line of best fit is -0.011, very insignificant. Thus, we see that there is barely any correlation between the number of stores and the quality of the brand."
   ]
  },
  {
   "cell_type": "markdown",
   "metadata": {},
   "source": [
    "<a id='visualizations'></a>\n",
    "# Visualizations\n",
    "\n",
    "Last week, we covered how understanding data types are essential to representing our data accurately through our visualization libraries - Matplotlib and Seaborn."
   ]
  },
  {
   "cell_type": "markdown",
   "metadata": {},
   "source": [
    "<b><span style=\"color: red;\">Please fer to the linear regression scatter plot and the histogram in the first part to account for credits in visualizations! I find it more intuitive to include the visualizations there. </span><b/>"
   ]
  },
  {
   "cell_type": "markdown",
   "metadata": {},
   "source": [
    "Some visualizations only work with certain data types! Here is a quick review of the differences between each data type:\n",
    "    - Categorical Data - “Descriptive” data\n",
    "        - Ordinal Data\n",
    "            - Variables that are ordered - where order is essential to understanding the dataset (ie education \n",
    "                level)\n",
    "        - Nominal Data\n",
    "            - Variables that are not ordered, unordered data (ie gender)\n",
    "            \n",
    "    - Numerical Data - Data that can be measured in tangible measurements, aka numbers\n",
    "        - Continuous Data\n",
    "            - Variables that can take on a continuous number of values (ie height, weight)\n",
    "        - Discrete Data\n",
    "            - Variables that can only take on fixed values \n"
   ]
  },
  {
   "cell_type": "markdown",
   "metadata": {},
   "source": [
    "Now that we’ve reviewed data types, let's jump into our visualizations! This is only a basic review of what we learned. For purposes of this section, please refer to the notebook attached with last week’s lecture to understand how we can make our graphs more accurate for what we are trying to represent. "
   ]
  },
  {
   "cell_type": "code",
   "execution_count": null,
   "metadata": {},
   "outputs": [],
   "source": [
    "#Line Plots - Comparing numerical data (either discrete or continuous)\n",
    "\n",
    "Matplotlib: `plt.plot(x = _____, y ____)`\n",
    "Seaborn: `sns.lineplot(x = _____, y = ____)`\n"
   ]
  },
  {
   "cell_type": "code",
   "execution_count": null,
   "metadata": {},
   "outputs": [],
   "source": [
    "#Barplots - Comparing categorical and numerical data\n",
    "\n",
    "Matplotlib:  `plt.bar(x = ____, height = ____)`\n",
    "Seaborn: `sns.barplot(x = ____, y = _____)`\n"
   ]
  },
  {
   "cell_type": "code",
   "execution_count": null,
   "metadata": {},
   "outputs": [],
   "source": [
    "#Scatterplots - Comparing continuous numerical data \n",
    "\n",
    "...\n",
    "...\n"
   ]
  },
  {
   "cell_type": "markdown",
   "metadata": {},
   "source": [
    "<a id='data'></a>\n",
    "# Data Storytelling\n",
    "\n",
    "Great work figuring out the claim you wanted to prove and supporting it with data and visualizations! You have now arrived at the last stage of the data analysis lifecycle: storytelling. In this last part, you will write a brief paragraph of what you did in Module 1 and Module 2 in each of the cells below."
   ]
  },
  {
   "cell_type": "markdown",
   "metadata": {},
   "source": [
    "<a id='mod1'></a>\n",
    "## Module 1"
   ]
  },
  {
   "cell_type": "markdown",
   "metadata": {},
   "source": [
    "For Module 1, be sure to explain:\n",
    "    - How data was found and cleaned up to the final usable dataframe.\n",
    "    - Notable characteristics you found when sorting/mutating data.\n",
    "    - Relevant aggregate values derived from dataframe and their implication."
   ]
  },
  {
   "cell_type": "markdown",
   "metadata": {},
   "source": [
    "The dataset on boba stores and ratings around the Bay Area is found on Kaggle. During the data cleaning process, duplicate rows are removed. For most parts of my analysis, longitude, attitude of the stores are removed because they are not relavent to my  analysis. \n",
    "Through my sorting/analysis, I was able to find out the boba brands that had the most shops around the Bay Area, as well as the best rating boba shops in Berkeley and San Francisco. I was also able to find out that there are 174 boba shops near me (Berkeley & SF) and the best city for boba are Brisbane\tand Corte Madera, each has a rating of 4.5"
   ]
  },
  {
   "cell_type": "markdown",
   "metadata": {},
   "source": [
    "<a id='mod2'></a>\n",
    "## Module 2"
   ]
  },
  {
   "cell_type": "markdown",
   "metadata": {},
   "source": [
    "For Module 2, be sure to explain:\n",
    "    - The overarching claim/question you were trying to prove or answer.\n",
    "    - Whether hypothesis testing or linear regression were used and why.\n",
    "        - What did you find?\n",
    "    - Relevant visualizations created and the insights they provided.\n",
    "    - Final conclusion you reached and closing thoughts on your data analysis as a whole."
   ]
  },
  {
   "cell_type": "markdown",
   "metadata": {},
   "source": [
    "My overarching questions were:\n",
    "1) If the mean of all bay area boba shops, including the ones not listed in the data set is above 3.75\n",
    "2) if there is a correlation between the ratings of a brand and how many shops the brand has\n",
    "I used hypothesis testing for 1) and linear regression for 2) because in the first prompt we were trying to prove against a null hypothesis, and in the second prompt we were trying to find the relationship between two numerical data.\n",
    "\n",
    "The histogram tells us the distribution of store ratings and told us that most stores have ratings between 3.5 and 4.\n",
    "The scatter plot and best fit line shows us that there's no relationship between the number of stores a brand has and its average rating."
   ]
  },
  {
   "cell_type": "markdown",
   "metadata": {},
   "source": [
    "<a id='submission'></a>\n",
    "# Submission"
   ]
  },
  {
   "cell_type": "markdown",
   "metadata": {},
   "source": [
    "We're finally done with the project!!! Hopefully you were able to learn and practice techniques in numpy and seaborn to test and visualize data."
   ]
  },
  {
   "cell_type": "markdown",
   "metadata": {},
   "source": [
    "To submit this assignment, go to the upper left corner and press \"File\" --> \"Download as\" --> \"PDF via LaTeX (.pdf)\". Then, upload the PDF to gradescope under the Project - Module 2 assignment."
   ]
  },
  {
   "cell_type": "markdown",
   "metadata": {},
   "source": [
    "Congrats on completing this project! You successfully explored, cleaned, and analyzed a dataset from start to finish to answer a question about the world. Use these techniques to develop your own projects in the future and keep learning. We'd love to get feedback about this project: what you did and didn't like, and any suggestions for creating a better learning experience; please respond to the google form below!\n",
    "\n",
    "https://forms.gle/czcs46QLfaPbmePy6"
   ]
  }
 ],
 "metadata": {
  "kernelspec": {
   "display_name": "Python 3",
   "language": "python",
   "name": "python3"
  },
  "language_info": {
   "codemirror_mode": {
    "name": "ipython",
    "version": 3
   },
   "file_extension": ".py",
   "mimetype": "text/x-python",
   "name": "python",
   "nbconvert_exporter": "python",
   "pygments_lexer": "ipython3",
   "version": "3.6.9"
  }
 },
 "nbformat": 4,
 "nbformat_minor": 4
}
