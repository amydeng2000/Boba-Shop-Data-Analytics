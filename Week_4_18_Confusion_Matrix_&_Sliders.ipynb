{
  "nbformat": 4,
  "nbformat_minor": 0,
  "metadata": {
    "colab": {
      "name": "Week 4/18 Confusion Matrix & Sliders.ipynb",
      "provenance": [],
      "authorship_tag": "ABX9TyNtkxCw+iIdHLh68VhnkU4m",
      "include_colab_link": true
    },
    "kernelspec": {
      "name": "python3",
      "display_name": "Python 3"
    },
    "language_info": {
      "name": "python"
    },
    "widgets": {
      "application/vnd.jupyter.widget-state+json": {
        "d31291b08a864993855f987f36e5f1e1": {
          "model_module": "@jupyter-widgets/controls",
          "model_name": "VBoxModel",
          "state": {
            "_view_name": "VBoxView",
            "_dom_classes": [
              "widget-interact"
            ],
            "_model_name": "VBoxModel",
            "_view_module": "@jupyter-widgets/controls",
            "_model_module_version": "1.5.0",
            "_view_count": null,
            "_view_module_version": "1.5.0",
            "box_style": "",
            "layout": "IPY_MODEL_b536d3cad63a44298d7ffbbce1bad41b",
            "_model_module": "@jupyter-widgets/controls",
            "children": [
              "IPY_MODEL_1145aa9ec6214f0a9b990fec6673151a",
              "IPY_MODEL_c4cfdbf6b89a4470a5e32b0f37c2264a"
            ]
          }
        },
        "b536d3cad63a44298d7ffbbce1bad41b": {
          "model_module": "@jupyter-widgets/base",
          "model_name": "LayoutModel",
          "state": {
            "_view_name": "LayoutView",
            "grid_template_rows": null,
            "right": null,
            "justify_content": null,
            "_view_module": "@jupyter-widgets/base",
            "overflow": null,
            "_model_module_version": "1.2.0",
            "_view_count": null,
            "flex_flow": null,
            "width": null,
            "min_width": null,
            "border": null,
            "align_items": null,
            "bottom": null,
            "_model_module": "@jupyter-widgets/base",
            "top": null,
            "grid_column": null,
            "overflow_y": null,
            "overflow_x": null,
            "grid_auto_flow": null,
            "grid_area": null,
            "grid_template_columns": null,
            "flex": null,
            "_model_name": "LayoutModel",
            "justify_items": null,
            "grid_row": null,
            "max_height": null,
            "align_content": null,
            "visibility": null,
            "align_self": null,
            "height": null,
            "min_height": null,
            "padding": null,
            "grid_auto_rows": null,
            "grid_gap": null,
            "max_width": null,
            "order": null,
            "_view_module_version": "1.2.0",
            "grid_template_areas": null,
            "object_position": null,
            "object_fit": null,
            "grid_auto_columns": null,
            "margin": null,
            "display": null,
            "left": null
          }
        },
        "1145aa9ec6214f0a9b990fec6673151a": {
          "model_module": "@jupyter-widgets/controls",
          "model_name": "FloatSliderModel",
          "state": {
            "_view_name": "FloatSliderView",
            "style": "IPY_MODEL_9edb7f60c3cc4c1fbf5d97191a30888d",
            "_dom_classes": [],
            "description": "k",
            "step": 0.1,
            "_model_name": "FloatSliderModel",
            "orientation": "horizontal",
            "max": 1,
            "_view_module": "@jupyter-widgets/controls",
            "_model_module_version": "1.5.0",
            "value": 0.5,
            "_view_count": null,
            "disabled": false,
            "_view_module_version": "1.5.0",
            "min": 0,
            "continuous_update": true,
            "readout_format": ".2f",
            "description_tooltip": null,
            "readout": true,
            "_model_module": "@jupyter-widgets/controls",
            "layout": "IPY_MODEL_84b51173d2214866a6a51da68b58952c"
          }
        },
        "c4cfdbf6b89a4470a5e32b0f37c2264a": {
          "model_module": "@jupyter-widgets/output",
          "model_name": "OutputModel",
          "state": {
            "_view_name": "OutputView",
            "msg_id": "cbd7c474231e4a1ad4983038c230b86e",
            "_dom_classes": [],
            "_model_name": "OutputModel",
            "outputs": [
              {
                "output_type": "display_data",
                "metadata": {
                  "tags": [],
                  "needs_background": "light"
                },
                "image/png": "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\n",
                "text/plain": "<Figure size 288x288 with 2 Axes>"
              },
              {
                "output_type": "display_data",
                "metadata": {
                  "tags": []
                },
                "text/html": "<div>\n<style scoped>\n    .dataframe tbody tr th:only-of-type {\n        vertical-align: middle;\n    }\n\n    .dataframe tbody tr th {\n        vertical-align: top;\n    }\n\n    .dataframe thead th {\n        text-align: right;\n    }\n</style>\n<table border=\"1\" class=\"dataframe\">\n  <thead>\n    <tr style=\"text-align: right;\">\n      <th>Predicted</th>\n      <th>0</th>\n      <th>1</th>\n    </tr>\n    <tr>\n      <th>Actual</th>\n      <th></th>\n      <th></th>\n    </tr>\n  </thead>\n  <tbody>\n    <tr>\n      <th>0</th>\n      <td>500</td>\n      <td>820</td>\n    </tr>\n    <tr>\n      <th>1</th>\n      <td>27</td>\n      <td>36</td>\n    </tr>\n  </tbody>\n</table>\n</div>",
                "text/plain": "Predicted    0    1\nActual             \n0          500  820\n1           27   36"
              }
            ],
            "_view_module": "@jupyter-widgets/output",
            "_model_module_version": "1.0.0",
            "_view_count": null,
            "_view_module_version": "1.0.0",
            "layout": "IPY_MODEL_d6d60efcefef4647b8be0bee43ac40dd",
            "_model_module": "@jupyter-widgets/output"
          }
        },
        "9edb7f60c3cc4c1fbf5d97191a30888d": {
          "model_module": "@jupyter-widgets/controls",
          "model_name": "SliderStyleModel",
          "state": {
            "_view_name": "StyleView",
            "handle_color": null,
            "_model_name": "SliderStyleModel",
            "description_width": "",
            "_view_module": "@jupyter-widgets/base",
            "_model_module_version": "1.5.0",
            "_view_count": null,
            "_view_module_version": "1.2.0",
            "_model_module": "@jupyter-widgets/controls"
          }
        },
        "84b51173d2214866a6a51da68b58952c": {
          "model_module": "@jupyter-widgets/base",
          "model_name": "LayoutModel",
          "state": {
            "_view_name": "LayoutView",
            "grid_template_rows": null,
            "right": null,
            "justify_content": null,
            "_view_module": "@jupyter-widgets/base",
            "overflow": null,
            "_model_module_version": "1.2.0",
            "_view_count": null,
            "flex_flow": null,
            "width": null,
            "min_width": null,
            "border": null,
            "align_items": null,
            "bottom": null,
            "_model_module": "@jupyter-widgets/base",
            "top": null,
            "grid_column": null,
            "overflow_y": null,
            "overflow_x": null,
            "grid_auto_flow": null,
            "grid_area": null,
            "grid_template_columns": null,
            "flex": null,
            "_model_name": "LayoutModel",
            "justify_items": null,
            "grid_row": null,
            "max_height": null,
            "align_content": null,
            "visibility": null,
            "align_self": null,
            "height": null,
            "min_height": null,
            "padding": null,
            "grid_auto_rows": null,
            "grid_gap": null,
            "max_width": null,
            "order": null,
            "_view_module_version": "1.2.0",
            "grid_template_areas": null,
            "object_position": null,
            "object_fit": null,
            "grid_auto_columns": null,
            "margin": null,
            "display": null,
            "left": null
          }
        },
        "d6d60efcefef4647b8be0bee43ac40dd": {
          "model_module": "@jupyter-widgets/base",
          "model_name": "LayoutModel",
          "state": {
            "_view_name": "LayoutView",
            "grid_template_rows": null,
            "right": null,
            "justify_content": null,
            "_view_module": "@jupyter-widgets/base",
            "overflow": null,
            "_model_module_version": "1.2.0",
            "_view_count": null,
            "flex_flow": null,
            "width": null,
            "min_width": null,
            "border": null,
            "align_items": null,
            "bottom": null,
            "_model_module": "@jupyter-widgets/base",
            "top": null,
            "grid_column": null,
            "overflow_y": null,
            "overflow_x": null,
            "grid_auto_flow": null,
            "grid_area": null,
            "grid_template_columns": null,
            "flex": null,
            "_model_name": "LayoutModel",
            "justify_items": null,
            "grid_row": null,
            "max_height": null,
            "align_content": null,
            "visibility": null,
            "align_self": null,
            "height": null,
            "min_height": null,
            "padding": null,
            "grid_auto_rows": null,
            "grid_gap": null,
            "max_width": null,
            "order": null,
            "_view_module_version": "1.2.0",
            "grid_template_areas": null,
            "object_position": null,
            "object_fit": null,
            "grid_auto_columns": null,
            "margin": null,
            "display": null,
            "left": null
          }
        }
      }
    }
  },
  "cells": [
    {
      "cell_type": "markdown",
      "metadata": {
        "id": "view-in-github",
        "colab_type": "text"
      },
      "source": [
        "<a href=\"https://colab.research.google.com/github/amydeng2000/Boba-Shop-Data-Analytics/blob/master/Week_4_18_Confusion_Matrix_%26_Sliders.ipynb\" target=\"_parent\"><img src=\"https://colab.research.google.com/assets/colab-badge.svg\" alt=\"Open In Colab\"/></a>"
      ]
    },
    {
      "cell_type": "code",
      "metadata": {
        "id": "PSx4hcvERTqF"
      },
      "source": [
        "!pip install -U -q PyDrive\n",
        "\n",
        "from pydrive.auth import GoogleAuth\n",
        "from pydrive.drive import GoogleDrive\n",
        "from google.colab import auth\n",
        "from oauth2client.client import GoogleCredentials\n",
        "\n",
        "auth.authenticate_user()\n",
        "gauth = GoogleAuth()\n",
        "gauth.credentials = GoogleCredentials.get_application_default()\n",
        "drive = GoogleDrive(gauth)"
      ],
      "execution_count": null,
      "outputs": []
    },
    {
      "cell_type": "code",
      "metadata": {
        "id": "fGnBh9eZRcJi"
      },
      "source": [
        "# https://drive.google.com/file/d/1kp2AswmfxADkLQPHMVYMji01VIPA5gNy/view?usp=sharing\n",
        "file = drive.CreateFile({'id':'1kp2AswmfxADkLQPHMVYMji01VIPA5gNy'}) # replace the id with id of file you want to access\n",
        "file.GetContentFile('labled_data.csv') "
      ],
      "execution_count": null,
      "outputs": []
    },
    {
      "cell_type": "code",
      "metadata": {
        "colab": {
          "base_uri": "https://localhost:8080/"
        },
        "id": "hJStMI0ORxFL",
        "outputId": "745de4f9-9a63-4430-f261-0afa315f3dae"
      },
      "source": [
        "import numpy as np\n",
        "import pandas as pd\n",
        "import nltk\n",
        "import gensim\n",
        "import random\n",
        "\n",
        "# from sklearn.feature_extraction.text import TfidfVectorizer\n",
        "# import matplotlib.pyplot as plt\n",
        "\n",
        "nltk.download('punkt')\n",
        "nltk.download('stopwords')\n",
        "nltk.download('vader_lexicon')\n",
        "from nltk.sentiment.vader import SentimentIntensityAnalyzer"
      ],
      "execution_count": null,
      "outputs": [
        {
          "output_type": "stream",
          "text": [
            "[nltk_data] Downloading package punkt to /root/nltk_data...\n",
            "[nltk_data]   Unzipping tokenizers/punkt.zip.\n",
            "[nltk_data] Downloading package stopwords to /root/nltk_data...\n",
            "[nltk_data]   Unzipping corpora/stopwords.zip.\n",
            "[nltk_data] Downloading package vader_lexicon to /root/nltk_data...\n"
          ],
          "name": "stdout"
        },
        {
          "output_type": "stream",
          "text": [
            "/usr/local/lib/python3.7/dist-packages/nltk/twitter/__init__.py:20: UserWarning: The twython library has not been installed. Some functionality from the twitter package will not be available.\n",
            "  warnings.warn(\"The twython library has not been installed. \"\n"
          ],
          "name": "stderr"
        }
      ]
    },
    {
      "cell_type": "code",
      "metadata": {
        "colab": {
          "base_uri": "https://localhost:8080/",
          "height": 206
        },
        "id": "SaWSBYXQR0do",
        "outputId": "92e6af02-9a02-4b26-934b-8dcb6771cb7a"
      },
      "source": [
        "# Load data into dataframe\n",
        "df = pd.read_csv('labled_data.csv')\n",
        "df.columns = ['No', 'Feedback', 'Label']\n",
        "df.dropna(inplace=True)\n",
        "df.drop([0], inplace=True)\n",
        "df.insert(2, \"Phrases\", \"\")\n",
        "df.insert(4, \"Predicted\", 0.0)\n",
        "df.insert(5, \"Actual\", 0)\n",
        "df.head()"
      ],
      "execution_count": null,
      "outputs": [
        {
          "output_type": "execute_result",
          "data": {
            "text/html": [
              "<div>\n",
              "<style scoped>\n",
              "    .dataframe tbody tr th:only-of-type {\n",
              "        vertical-align: middle;\n",
              "    }\n",
              "\n",
              "    .dataframe tbody tr th {\n",
              "        vertical-align: top;\n",
              "    }\n",
              "\n",
              "    .dataframe thead th {\n",
              "        text-align: right;\n",
              "    }\n",
              "</style>\n",
              "<table border=\"1\" class=\"dataframe\">\n",
              "  <thead>\n",
              "    <tr style=\"text-align: right;\">\n",
              "      <th></th>\n",
              "      <th>No</th>\n",
              "      <th>Feedback</th>\n",
              "      <th>Phrases</th>\n",
              "      <th>Label</th>\n",
              "      <th>Predicted</th>\n",
              "      <th>Actual</th>\n",
              "    </tr>\n",
              "  </thead>\n",
              "  <tbody>\n",
              "    <tr>\n",
              "      <th>1</th>\n",
              "      <td>1</td>\n",
              "      <td>Although he was less so as time went on, Brayd...</td>\n",
              "      <td></td>\n",
              "      <td>Other</td>\n",
              "      <td>0.0</td>\n",
              "      <td>0</td>\n",
              "    </tr>\n",
              "    <tr>\n",
              "      <th>2</th>\n",
              "      <td>2</td>\n",
              "      <td>made sure all ideas where heard while presenti...</td>\n",
              "      <td></td>\n",
              "      <td>Inclusive</td>\n",
              "      <td>0.0</td>\n",
              "      <td>0</td>\n",
              "    </tr>\n",
              "    <tr>\n",
              "      <th>3</th>\n",
              "      <td>3</td>\n",
              "      <td>Jason communicated pretty well with the team</td>\n",
              "      <td></td>\n",
              "      <td>Effective Communicator</td>\n",
              "      <td>0.0</td>\n",
              "      <td>0</td>\n",
              "    </tr>\n",
              "    <tr>\n",
              "      <th>4</th>\n",
              "      <td>4</td>\n",
              "      <td>Communicated very well</td>\n",
              "      <td></td>\n",
              "      <td>Effective Communicator</td>\n",
              "      <td>0.0</td>\n",
              "      <td>0</td>\n",
              "    </tr>\n",
              "    <tr>\n",
              "      <th>5</th>\n",
              "      <td>5</td>\n",
              "      <td>Considering multiple solutions to problems we ...</td>\n",
              "      <td></td>\n",
              "      <td>Problem Solving (Analytical)</td>\n",
              "      <td>0.0</td>\n",
              "      <td>0</td>\n",
              "    </tr>\n",
              "  </tbody>\n",
              "</table>\n",
              "</div>"
            ],
            "text/plain": [
              "  No                                           Feedback  ... Predicted Actual\n",
              "1  1  Although he was less so as time went on, Brayd...  ...       0.0      0\n",
              "2  2  made sure all ideas where heard while presenti...  ...       0.0      0\n",
              "3  3       Jason communicated pretty well with the team  ...       0.0      0\n",
              "4  4                             Communicated very well  ...       0.0      0\n",
              "5  5  Considering multiple solutions to problems we ...  ...       0.0      0\n",
              "\n",
              "[5 rows x 6 columns]"
            ]
          },
          "metadata": {
            "tags": []
          },
          "execution_count": 4
        }
      ]
    },
    {
      "cell_type": "code",
      "metadata": {
        "colab": {
          "base_uri": "https://localhost:8080/",
          "height": 362
        },
        "id": "QWUQC744STep",
        "outputId": "c7691982-e106-4918-f8d7-fd227139e147"
      },
      "source": [
        "df.reset_index(inplace=True)\n",
        "for i in range(len(df)):\n",
        "  # Just for visualization purposes, assume Other is also Effective Communicator\n",
        "  if df.at[i, \"Label\"] == \"Effective Communicator\":\n",
        "    df.at[i, 'Actual'] = 1\n",
        "  df.at[i, 'Predicted'] = random.random()\n",
        "df.head(10)"
      ],
      "execution_count": null,
      "outputs": [
        {
          "output_type": "execute_result",
          "data": {
            "text/html": [
              "<div>\n",
              "<style scoped>\n",
              "    .dataframe tbody tr th:only-of-type {\n",
              "        vertical-align: middle;\n",
              "    }\n",
              "\n",
              "    .dataframe tbody tr th {\n",
              "        vertical-align: top;\n",
              "    }\n",
              "\n",
              "    .dataframe thead th {\n",
              "        text-align: right;\n",
              "    }\n",
              "</style>\n",
              "<table border=\"1\" class=\"dataframe\">\n",
              "  <thead>\n",
              "    <tr style=\"text-align: right;\">\n",
              "      <th></th>\n",
              "      <th>index</th>\n",
              "      <th>No</th>\n",
              "      <th>Feedback</th>\n",
              "      <th>Phrases</th>\n",
              "      <th>Label</th>\n",
              "      <th>Predicted</th>\n",
              "      <th>Actual</th>\n",
              "    </tr>\n",
              "  </thead>\n",
              "  <tbody>\n",
              "    <tr>\n",
              "      <th>0</th>\n",
              "      <td>1</td>\n",
              "      <td>1</td>\n",
              "      <td>Although he was less so as time went on, Brayd...</td>\n",
              "      <td></td>\n",
              "      <td>Other</td>\n",
              "      <td>0.459301</td>\n",
              "      <td>0</td>\n",
              "    </tr>\n",
              "    <tr>\n",
              "      <th>1</th>\n",
              "      <td>2</td>\n",
              "      <td>2</td>\n",
              "      <td>made sure all ideas where heard while presenti...</td>\n",
              "      <td></td>\n",
              "      <td>Inclusive</td>\n",
              "      <td>0.012880</td>\n",
              "      <td>0</td>\n",
              "    </tr>\n",
              "    <tr>\n",
              "      <th>2</th>\n",
              "      <td>3</td>\n",
              "      <td>3</td>\n",
              "      <td>Jason communicated pretty well with the team</td>\n",
              "      <td></td>\n",
              "      <td>Effective Communicator</td>\n",
              "      <td>0.661401</td>\n",
              "      <td>1</td>\n",
              "    </tr>\n",
              "    <tr>\n",
              "      <th>3</th>\n",
              "      <td>4</td>\n",
              "      <td>4</td>\n",
              "      <td>Communicated very well</td>\n",
              "      <td></td>\n",
              "      <td>Effective Communicator</td>\n",
              "      <td>0.913559</td>\n",
              "      <td>1</td>\n",
              "    </tr>\n",
              "    <tr>\n",
              "      <th>4</th>\n",
              "      <td>5</td>\n",
              "      <td>5</td>\n",
              "      <td>Considering multiple solutions to problems we ...</td>\n",
              "      <td></td>\n",
              "      <td>Problem Solving (Analytical)</td>\n",
              "      <td>0.751566</td>\n",
              "      <td>0</td>\n",
              "    </tr>\n",
              "    <tr>\n",
              "      <th>5</th>\n",
              "      <td>6</td>\n",
              "      <td>6</td>\n",
              "      <td>worked well in team</td>\n",
              "      <td></td>\n",
              "      <td>Inclusive</td>\n",
              "      <td>0.071149</td>\n",
              "      <td>0</td>\n",
              "    </tr>\n",
              "    <tr>\n",
              "      <th>6</th>\n",
              "      <td>7</td>\n",
              "      <td>7</td>\n",
              "      <td>Calvin was a really good at listening to other...</td>\n",
              "      <td></td>\n",
              "      <td>Active Listener</td>\n",
              "      <td>0.585446</td>\n",
              "      <td>0</td>\n",
              "    </tr>\n",
              "    <tr>\n",
              "      <th>7</th>\n",
              "      <td>8</td>\n",
              "      <td>8</td>\n",
              "      <td>Cameron was really effective at helping other ...</td>\n",
              "      <td></td>\n",
              "      <td>Coaching</td>\n",
              "      <td>0.757794</td>\n",
              "      <td>0</td>\n",
              "    </tr>\n",
              "    <tr>\n",
              "      <th>8</th>\n",
              "      <td>9</td>\n",
              "      <td>9</td>\n",
              "      <td>Not being afraid to hear opposition</td>\n",
              "      <td></td>\n",
              "      <td>Other</td>\n",
              "      <td>0.296431</td>\n",
              "      <td>0</td>\n",
              "    </tr>\n",
              "    <tr>\n",
              "      <th>9</th>\n",
              "      <td>10</td>\n",
              "      <td>10</td>\n",
              "      <td>Hugo was always very friendly at the meetings ...</td>\n",
              "      <td></td>\n",
              "      <td>Other</td>\n",
              "      <td>0.543246</td>\n",
              "      <td>0</td>\n",
              "    </tr>\n",
              "  </tbody>\n",
              "</table>\n",
              "</div>"
            ],
            "text/plain": [
              "   index  No  ... Predicted Actual\n",
              "0      1   1  ...  0.459301      0\n",
              "1      2   2  ...  0.012880      0\n",
              "2      3   3  ...  0.661401      1\n",
              "3      4   4  ...  0.913559      1\n",
              "4      5   5  ...  0.751566      0\n",
              "5      6   6  ...  0.071149      0\n",
              "6      7   7  ...  0.585446      0\n",
              "7      8   8  ...  0.757794      0\n",
              "8      9   9  ...  0.296431      0\n",
              "9     10  10  ...  0.543246      0\n",
              "\n",
              "[10 rows x 7 columns]"
            ]
          },
          "metadata": {
            "tags": []
          },
          "execution_count": 6
        }
      ]
    },
    {
      "cell_type": "code",
      "metadata": {
        "colab": {
          "base_uri": "https://localhost:8080/"
        },
        "id": "ZETNuiByDX2R",
        "outputId": "f7568696-f6aa-4ee1-e0f9-837f7944972c"
      },
      "source": [
        "y_actu = pd.Series(df[\"Actual\"], name='Actual')\n",
        "\n",
        "pred = []\n",
        "for i in range(len(df)):\n",
        "  pred.append(df.iloc[i][\"Predicted\"])\n",
        "\n",
        "def f(pred, thresh):\n",
        "  if pred >= thresh:\n",
        "    return 1\n",
        "  else:\n",
        "    return 0\n",
        "thresh = 0.3\n",
        "\n",
        "y_pred = pd.Series([f(p, thresh) for p in pred], name='Predicted')\n",
        "df_confusion = pd.crosstab(y_actu, y_pred)\n",
        "print(df_confusion)"
      ],
      "execution_count": null,
      "outputs": [
        {
          "output_type": "stream",
          "text": [
            "Predicted    0    1\n",
            "Actual             \n",
            "0          381  939\n",
            "1           18   45\n"
          ],
          "name": "stdout"
        }
      ]
    },
    {
      "cell_type": "code",
      "metadata": {
        "colab": {
          "base_uri": "https://localhost:8080/",
          "height": 254
        },
        "id": "fL0W18W-XAaI",
        "outputId": "3570a6bb-d1b2-497e-b4bc-5c61b0de9ae5"
      },
      "source": [
        "import matplotlib.pyplot as plt\n",
        "import matplotlib.cm as cm      \n",
        "from matplotlib.widgets import Slider\n",
        "\n",
        "\n",
        "def plot_confusion_matrix(df_confusion, title='Confusion matrix', cmap=plt.cm.gray_r):\n",
        "    plt.matshow(df_confusion, cmap=cmap) # imshow\n",
        "    #plt.title(title)\n",
        "    plt.colorbar()\n",
        "    tick_marks = np.arange(len(df_confusion.columns))\n",
        "    plt.xticks(tick_marks, df_confusion.columns, rotation=45)\n",
        "    plt.yticks(tick_marks, df_confusion.index)\n",
        "    #plt.tight_layout()\n",
        "    plt.ylabel(df_confusion.index.name)\n",
        "    plt.xlabel(df_confusion.columns.name)\n",
        "\n",
        "plot_confusion_matrix(df_confusion)\n",
        "\n",
        "\n",
        "\n",
        "# # vals = np.linspace(0,1,10)\n",
        "# # xgrid, ygrid = np.meshgrid(vals,vals)\n",
        "# # print(xgrid, ygrid)     \n",
        "\n",
        "# xgrid = df[\"Predicted\"]  \n",
        "# ygrid = df[\"Actual\"]\n",
        "\n",
        "# # x = predicted, y = actual, b = threshold\n",
        "# def f(x, y, b):\n",
        "#     if x >= b:\n",
        "#       return 1\n",
        "#     else:\n",
        "#       return 0\n",
        "\n",
        "# b = 0.5\n",
        "\n",
        "# ax = plt.subplot(111)\n",
        "# plt.subplots_adjust(left=0.15, bottom=0.25)\n",
        "# fig = plt.imshow(f(xgrid, ygrid, b), cm.gray)\n",
        "# plt.axis('off')\n",
        "# fig.axes.get_xaxis().set_visible(False)\n",
        "# fig.axes.get_yaxis().set_visible(False)\n",
        "\n",
        "# axb = plt.axes([0.15, 0.1, 0.65, 0.03])\n",
        "# sb = Slider(axb, 'b', 0.1, 10.0, valinit=b)\n",
        "# def update(val):\n",
        "#     fig.set_data(f(xgrid, ygrid, val))\n",
        "# sb.on_changed(update)\n",
        "\n",
        "# plt.show()"
      ],
      "execution_count": null,
      "outputs": [
        {
          "output_type": "display_data",
          "data": {
            "image/png": "[encoded data removed]",
            "text/plain": [
              "<Figure size 288x288 with 2 Axes>"
            ]
          },
          "metadata": {
            "tags": [],
            "needs_background": "light"
          }
        }
      ]
    },
    {
      "cell_type": "code",
      "metadata": {
        "colab": {
          "base_uri": "https://localhost:8080/"
        },
        "id": "13qyCjtaB6aC",
        "outputId": "49b8765a-a75a-4e7e-c656-3f43d1136180"
      },
      "source": [
        "%pylab inline"
      ],
      "execution_count": null,
      "outputs": [
        {
          "output_type": "stream",
          "text": [
            "Populating the interactive namespace from numpy and matplotlib\n"
          ],
          "name": "stdout"
        },
        {
          "output_type": "stream",
          "text": [
            "/usr/local/lib/python3.7/dist-packages/IPython/core/magics/pylab.py:161: UserWarning: pylab import has clobbered these variables: ['random', 'f']\n",
            "`%matplotlib` prevents importing * from pylab and numpy\n",
            "  \"\\n`%matplotlib` prevents importing * from pylab and numpy\"\n"
          ],
          "name": "stderr"
        }
      ]
    },
    {
      "cell_type": "code",
      "metadata": {
        "colab": {
          "base_uri": "https://localhost:8080/",
          "height": 429,
          "referenced_widgets": [
            "d31291b08a864993855f987f36e5f1e1",
            "b536d3cad63a44298d7ffbbce1bad41b",
            "1145aa9ec6214f0a9b990fec6673151a",
            "c4cfdbf6b89a4470a5e32b0f37c2264a",
            "9edb7f60c3cc4c1fbf5d97191a30888d",
            "84b51173d2214866a6a51da68b58952c",
            "d6d60efcefef4647b8be0bee43ac40dd"
          ]
        },
        "id": "x1t0S6yRWFsR",
        "outputId": "8301869c-7c31-4839-a508-af56315ca648"
      },
      "source": [
        "# Turn on interactive plotting\n",
        "from ipywidgets import interact, interactive, fixed, interact_manual\n",
        "import ipywidgets as widgets\n",
        "\n",
        "\n",
        "# On each update we compute the low rank approximation\n",
        "def update(k):\n",
        "#     plt.matshow(plot_confusion_matrix(k), cmap='gray')\n",
        "    pred = []\n",
        "    for i in range(len(df)):\n",
        "        pred.append(df.iloc[i][\"Predicted\"])\n",
        "\n",
        "    def f(pred, k):\n",
        "        if pred >= k:\n",
        "            return 1\n",
        "        else:\n",
        "            return 0\n",
        "    # thresh = 0.3\n",
        "    y_actu = pd.Series(df[\"Actual\"], name='Actual')\n",
        "    y_pred = pd.Series([f(p, k) for p in pred], name='Predicted')\n",
        "    df_confusion = pd.crosstab(y_actu, y_pred)\n",
        "    \n",
        "    plt.matshow(df_confusion) # imshow\n",
        "    #plt.title(title)\n",
        "    plt.colorbar()\n",
        "    tick_marks = np.arange(len(df_confusion.columns))\n",
        "    plt.xticks(tick_marks, df_confusion.columns, rotation=45)\n",
        "    plt.yticks(tick_marks, df_confusion.index)\n",
        "    #plt.tight_layout()\n",
        "    plt.ylabel(df_confusion.index.name)\n",
        "    plt.xlabel(df_confusion.columns.name)\n",
        "    \n",
        "    return df_confusion\n",
        "\n",
        "\n",
        "interact(update, k=widgets.FloatSlider(min=0.0, max=1, step=0.1, value=0.5))"
      ],
      "execution_count": null,
      "outputs": [
        {
          "output_type": "display_data",
          "data": {
            "application/vnd.jupyter.widget-view+json": {
              "model_id": "d31291b08a864993855f987f36e5f1e1",
              "version_minor": 0,
              "version_major": 2
            },
            "text/plain": [
              "interactive(children=(FloatSlider(value=0.5, description='k', max=1.0), Output()), _dom_classes=('widget-inter…"
            ]
          },
          "metadata": {
            "tags": []
          }
        },
        {
          "output_type": "execute_result",
          "data": {
            "text/plain": [
              "<function __main__.update>"
            ]
          },
          "metadata": {
            "tags": []
          },
          "execution_count": 10
        }
      ]
    },
    {
      "cell_type": "markdown",
      "metadata": {
        "id": "44VQJr6DA61_"
      },
      "source": [
        "###Misc Code"
      ]
    },
    {
      "cell_type": "code",
      "metadata": {
        "colab": {
          "base_uri": "https://localhost:8080/",
          "height": 472
        },
        "id": "t4IeMP1JWl9B",
        "outputId": "2ad091b2-7027-4de0-a81f-d6bec8e821ca"
      },
      "source": [
        "import matplotlib.pyplot as plt\n",
        "def plot_confusion_matrix(df_confusion, title='Confusion matrix', cmap=plt.cm.gray_r):\n",
        "    plt.matshow(df_confusion, cmap=cmap) # imshow\n",
        "    #plt.title(title)\n",
        "    plt.colorbar()\n",
        "    tick_marks = np.arange(len(df_confusion.columns))\n",
        "    plt.xticks(tick_marks, df_confusion.columns, rotation=45)\n",
        "    plt.yticks(tick_marks, df_confusion.index)\n",
        "    #plt.tight_layout()\n",
        "    plt.ylabel(df_confusion.index.name)\n",
        "    plt.xlabel(df_confusion.columns.name)\n",
        "\n",
        "plt = plot_confusion_matrix(df_confusion)\n"
      ],
      "execution_count": null,
      "outputs": [
        {
          "output_type": "error",
          "ename": "AttributeError",
          "evalue": "ignored",
          "traceback": [
            "\u001b[0;31m---------------------------------------------------------------------------\u001b[0m",
            "\u001b[0;31mAttributeError\u001b[0m                            Traceback (most recent call last)",
            "\u001b[0;32m<ipython-input-56-8b8415767f33>\u001b[0m in \u001b[0;36m<module>\u001b[0;34m()\u001b[0m\n\u001b[1;32m     12\u001b[0m \u001b[0;34m\u001b[0m\u001b[0m\n\u001b[1;32m     13\u001b[0m \u001b[0mplt\u001b[0m \u001b[0;34m=\u001b[0m \u001b[0mplot_confusion_matrix\u001b[0m\u001b[0;34m(\u001b[0m\u001b[0mdf_confusion\u001b[0m\u001b[0;34m)\u001b[0m\u001b[0;34m\u001b[0m\u001b[0;34m\u001b[0m\u001b[0m\n\u001b[0;32m---> 14\u001b[0;31m \u001b[0maxfreq\u001b[0m \u001b[0;34m=\u001b[0m \u001b[0mplt\u001b[0m\u001b[0;34m.\u001b[0m\u001b[0maxes\u001b[0m\u001b[0;34m(\u001b[0m\u001b[0;34m[\u001b[0m\u001b[0;36m0.25\u001b[0m\u001b[0;34m,\u001b[0m \u001b[0;36m0.1\u001b[0m\u001b[0;34m,\u001b[0m \u001b[0;36m0.65\u001b[0m\u001b[0;34m,\u001b[0m \u001b[0;36m0.03\u001b[0m\u001b[0;34m]\u001b[0m\u001b[0;34m,\u001b[0m \u001b[0mfacecolor\u001b[0m\u001b[0;34m=\u001b[0m\u001b[0maxcolor\u001b[0m\u001b[0;34m)\u001b[0m\u001b[0;34m\u001b[0m\u001b[0;34m\u001b[0m\u001b[0m\n\u001b[0m\u001b[1;32m     15\u001b[0m freq_slider = Slider(\n\u001b[1;32m     16\u001b[0m     \u001b[0max\u001b[0m\u001b[0;34m=\u001b[0m\u001b[0maxfreq\u001b[0m\u001b[0;34m,\u001b[0m\u001b[0;34m\u001b[0m\u001b[0;34m\u001b[0m\u001b[0m\n",
            "\u001b[0;31mAttributeError\u001b[0m: 'NoneType' object has no attribute 'axes'"
          ]
        },
        {
          "output_type": "display_data",
          "data": {
            "image/png": "[encoded data removed]",
            "text/plain": [
              "<Figure size 288x288 with 2 Axes>"
            ]
          },
          "metadata": {
            "tags": [],
            "needs_background": "light"
          }
        }
      ]
    },
    {
      "cell_type": "code",
      "metadata": {
        "id": "j0MbGFijawh7"
      },
      "source": [
        "fig, ax = plt.subplots()\n",
        "line = plt.plot(t, f(t, init_amplitude, init_frequency), lw=2)\n",
        "\n",
        "axfreq = plt.axes([0.25, 0.1, 0.65, 0.03], facecolor=axcolor)\n",
        "freq_slider = Slider(\n",
        "    ax=axfreq,\n",
        "    label='Frequency [Hz]',\n",
        "    valmin=0.1,\n",
        "    valmax=30,\n",
        "    valinit=init_frequency,\n",
        ")\n",
        "plt.show()"
      ],
      "execution_count": null,
      "outputs": []
    },
    {
      "cell_type": "markdown",
      "metadata": {
        "id": "66YY4pxMV-Q8"
      },
      "source": [
        ""
      ]
    },
    {
      "cell_type": "code",
      "metadata": {
        "colab": {
          "base_uri": "https://localhost:8080/"
        },
        "id": "1JFBm0unTLZc",
        "outputId": "5fb576aa-fcb9-450a-8432-515a422fdf59"
      },
      "source": [
        "score_actu = pd.Series(df[\"Actual\"], name='Actual')\n",
        "score_pred = pd.Series(df[\"Predicted\"], name='Predicted')\n",
        "df_confusion = pd.crosstab(score_actu, score_pred)\n",
        "print(df_confusion)"
      ],
      "execution_count": null,
      "outputs": [
        {
          "output_type": "stream",
          "text": [
            "Predicted  0.000626  0.001359  0.001521  ...  0.998429  0.998594  0.998736\n",
            "Actual                                   ...                              \n",
            "0                 1         1         0  ...         1         1         0\n",
            "1                 0         0         1  ...         0         0         1\n",
            "\n",
            "[2 rows x 1383 columns]\n"
          ],
          "name": "stdout"
        }
      ]
    }
  ]
}